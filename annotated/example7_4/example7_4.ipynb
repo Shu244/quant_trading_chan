{
 "cells": [
  {
   "cell_type": "code",
   "execution_count": 52,
   "id": "dd420735-1568-4760-b13a-3d7eb7aa7cbc",
   "metadata": {},
   "outputs": [],
   "source": [
    "import math\n",
    "import numpy as np\n",
    "import pandas as pd\n",
    "from numpy.linalg import eig\n",
    "from numpy.linalg import eigh\n",
    "import statsmodels.api as sm\n",
    "from sklearn.linear_model import LinearRegression\n",
    "from sklearn.multioutput import MultiOutputRegressor\n",
    "from sklearn.decomposition import PCA\n",
    "from sklearn.preprocessing import StandardScaler\n",
    "from sklearn import linear_model\n",
    "from sklearn.linear_model import Ridge\n",
    "import time\n",
    "from tqdm import tqdm"
   ]
  },
  {
   "cell_type": "code",
   "execution_count": 53,
   "id": "78c16522-0a33-4892-be70-f5602e149b88",
   "metadata": {},
   "outputs": [],
   "source": [
    "lookback=252 # training period for factor exposure\n",
    "numFactors=5\n",
    "topN=50 # for trading strategy, long stocks with topN exepcted 1-day returns\n",
    "\n",
    "df=pd.read_table('IJR_20080114.txt')\n",
    "df['Date']=df['Date'].astype('int')\n",
    "df.set_index('Date', inplace=True)\n",
    "df.sort_index(inplace=True)\n",
    "df.fillna(method='ffill', inplace=True)"
   ]
  },
  {
   "cell_type": "code",
   "execution_count": 54,
   "id": "014381d9-1054-41ec-885b-44d408c71004",
   "metadata": {},
   "outputs": [],
   "source": [
    "dailyret=df.pct_change() # note the rows of dailyret are the observations at different time periods\n",
    "positionsTable=np.zeros(df.shape)\n",
    "end_index = df.shape[0]"
   ]
  },
  {
   "cell_type": "code",
   "execution_count": 61,
   "id": "324d716e-8572-4161-8f76-fdc6ba64ce44",
   "metadata": {},
   "outputs": [
    {
     "name": "stderr",
     "output_type": "stream",
     "text": [
      "100%|██████████| 753/753 [04:38<00:00,  2.70it/s]\n"
     ]
    }
   ],
   "source": [
    "t_arr = np.arange(lookback+1,end_index)\n",
    "for t in tqdm(t_arr):\n",
    "    R=dailyret.iloc[t-lookback+1:t,].T # Dimensions stocks x time\n",
    "    \n",
    "    # R.notna().all(axis=1) --> returns array of length = num. stocks and is False if any value for the stock is NA\n",
    "    # np.where when only a condition is passed selects the indices that contain True\n",
    "    # Essentially returns indices for stocks whose time series contains all valid daily returns \n",
    "    hasData=np.where(R.notna().all(axis=1))[0]\n",
    "    \n",
    "    R.dropna(inplace=True) # Drops stocks that contain NA values\n",
    "    pca = PCA(n_components=numFactors)\n",
    "    \n",
    "    # Should we normalize data first?\n",
    "    # R.T has dimensions time x stocks\n",
    "    # pca.fit_transform assumes the cols are the number of dimensions; each row then represents a sample \n",
    "    # In this case, we have num dimensions = num. stocks \n",
    "    # The output projects each sample into lower dimensions, so it has dimensions (num time series vals x num principal components)\n",
    "    X = pca.fit_transform(R.T)[:,]\n",
    "    \n",
    "    # Add a column of ones to X\n",
    "    # X is now all the training samples projected into lower dimensions with an additional col for 1\n",
    "    X = sm.add_constant(X) \n",
    "    y1 = R.T # Dimensions time x stocks\n",
    "    \n",
    "    # MultiOutputRegressor fits one regressor per target (num targets = num stocks in our example)\n",
    "    # fit_intercept=False sets the y-intercept to 0 (https://stackoverflow.com/a/46781428)\n",
    "    # This is important since we do not want each target/stock to have its own offset\n",
    "    # Instead, we want one offset for all targets/stocks, hence the need to add a column of 1's\n",
    "    clf = MultiOutputRegressor(LinearRegression(fit_intercept=False),n_jobs=4).fit(X, y1)\n",
    "    \n",
    "    # Sum of daily returns along all time samples for each stock\n",
    "    # Is a vector with num elements equal to num. stocks\n",
    "    Rexp = np.sum(clf.predict(X),axis=0) \n",
    "    \n",
    "\n",
    "    # Index of stock sorted in increasing order\n",
    "    idxSort=Rexp.argsort()  \n",
    "    \n",
    "    # idxSort[:topN] --> return index of stock with topN smallest sum of daily returns\n",
    "    # idxSort[-topN:-1] --> return index of stock with topN largest sum of daily returns\n",
    "    # hasData is used since we dropped stocks in dataframe R with NA in time series \n",
    "    # The idea is that the factor model predictions have momentum, so they will carry over to the next period\n",
    "    positionsTable[t, hasData[idxSort[:topN]]]=-1\n",
    "    positionsTable[t, hasData[idxSort[-topN:-1]]] = 1"
   ]
  },
  {
   "cell_type": "code",
   "execution_count": 238,
   "id": "f2ac7cd6-90ab-4d37-b51a-c4ccee96a8fc",
   "metadata": {},
   "outputs": [
    {
     "name": "stdout",
     "output_type": "stream",
     "text": [
      "0.029399332677424492\n",
      "0.06808612790146878\n",
      "0.43179622022227343\n"
     ]
    }
   ],
   "source": [
    "# positionsTable is shifted forwards in the time dimension\n",
    "# We take the absolute value since we only care if the stock has been shorted or longed\n",
    "# We sum along the stocks dimension, so capital is a vector representing the number of stocks we traded for a given time \n",
    "capital=np.nansum(np.array(abs(pd.DataFrame(positionsTable)).shift()), axis=1) \n",
    "\n",
    "# For times when no stocks were traded, set position tables to 0 (sanity code)\n",
    "# positionsTable[capital==0 - 1,]=0 \n",
    "\n",
    "# Avoids division by zero\n",
    "# This does not alter the returns since the numerator is guarenteed to be 0 (set by above line)\n",
    "capital[capital==0]=1\n",
    "\n",
    "ret=np.nansum(np.array(pd.DataFrame(positionsTable).shift())*np.array(dailyret), axis=1)/capital\n",
    "avgret=np.nanmean(ret)*252\n",
    "avgstdev = np.nanstd(ret)*math.sqrt(252)\n",
    "Sharpe = avgret/avgstdev\n",
    "\n",
    "print(avgret)\n",
    "print(avgstdev)\n",
    "print(Sharpe)"
   ]
  }
 ],
 "metadata": {
  "kernelspec": {
   "display_name": "Python 3",
   "language": "python",
   "name": "python3"
  },
  "language_info": {
   "codemirror_mode": {
    "name": "ipython",
    "version": 3
   },
   "file_extension": ".py",
   "mimetype": "text/x-python",
   "name": "python",
   "nbconvert_exporter": "python",
   "pygments_lexer": "ipython3",
   "version": "3.9.7"
  }
 },
 "nbformat": 4,
 "nbformat_minor": 5
}
